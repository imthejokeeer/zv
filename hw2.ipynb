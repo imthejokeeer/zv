{
 "cells": [
  {
   "cell_type": "code",
   "execution_count": 1,
   "id": "359f2e89-fa10-40b5-a902-ca1b9f72f2f8",
   "metadata": {},
   "outputs": [],
   "source": [
    "import math"
   ]
  },
  {
   "cell_type": "code",
   "execution_count": 2,
   "id": "afca6eb0-a85b-4665-ab43-11dcbc3c7e37",
   "metadata": {},
   "outputs": [],
   "source": [
    "def find3storona(a, b, angle): #собственно сама функция\n",
    "\n",
    "  if 0 < angle < 180:\n",
    "    angle_rad = math.radians(angle)\n",
    "    c = math.sqrt(a**2 + b**2 - 2 * a * b * math.cos(angle_rad))\n",
    "    return c\n",
    "  else:\n",
    "    return \"Ошибка: Угол должен быть в диапазоне от 0 до 180 градусов.\""
   ]
  },
  {
   "cell_type": "code",
   "execution_count": 3,
   "id": "04ec65f7-1003-4c9d-a981-9627d369cae9",
   "metadata": {},
   "outputs": [
    {
     "name": "stdin",
     "output_type": "stream",
     "text": [
      "Введите длину первой стороны:  12\n",
      "Введите длину второй стороны:  13\n",
      "Введите угол между сторонами в градусах:  123\n"
     ]
    }
   ],
   "source": [
    "# ввод данных\n",
    "a = int(input(\"Введите длину первой стороны: \"))\n",
    "b = int(input(\"Введите длину второй стороны: \"))\n",
    "angle = int(input(\"Введите угол между сторонами в градусах: \"))"
   ]
  },
  {
   "cell_type": "code",
   "execution_count": 4,
   "id": "51a4b0c4-972b-4dab-92a2-758f3b0faa4e",
   "metadata": {},
   "outputs": [
    {
     "name": "stdout",
     "output_type": "stream",
     "text": [
      "21.975608727056652\n"
     ]
    }
   ],
   "source": [
    "#третья сторона\n",
    "storona3 = find3storona(a, b, angle)\n",
    "#вот и все вот и все\n",
    "print(storona3)"
   ]
  }
 ],
 "metadata": {
  "kernelspec": {
   "display_name": "Python 3 (ipykernel)",
   "language": "python",
   "name": "python3"
  },
  "language_info": {
   "codemirror_mode": {
    "name": "ipython",
    "version": 3
   },
   "file_extension": ".py",
   "mimetype": "text/x-python",
   "name": "python",
   "nbconvert_exporter": "python",
   "pygments_lexer": "ipython3",
   "version": "3.12.5"
  }
 },
 "nbformat": 4,
 "nbformat_minor": 5
}
